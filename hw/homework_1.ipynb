{
 "cells": [
  {
   "cell_type": "markdown",
   "metadata": {},
   "source": [
    "# Home work 1"
   ]
  },
  {
   "cell_type": "markdown",
   "metadata": {},
   "source": [
    "## Table of contents:\n",
    "* [Tasks](#tasks)\n",
    "* [Tests](#tests)"
   ]
  },
  {
   "cell_type": "markdown",
   "metadata": {},
   "source": [
    "## Tasks <a class=\"anchor\" id=\"tasks\"></a>"
   ]
  },
  {
   "cell_type": "code",
   "execution_count": 8,
   "metadata": {},
   "outputs": [],
   "source": [
    "def add(a, b):\n",
    "    \"\"\"Return the sum\"\"\"\n",
    "    return a+b"
   ]
  },
  {
   "cell_type": "markdown",
   "metadata": {},
   "source": [
    "## Tests  <a class=\"anchor\" id=\"tests\"></a>"
   ]
  },
  {
   "cell_type": "code",
   "execution_count": 9,
   "metadata": {},
   "outputs": [],
   "source": [
    "import pytest\n",
    "import ipytest\n",
    "ipytest.autoconfig()"
   ]
  },
  {
   "cell_type": "code",
   "execution_count": 10,
   "metadata": {},
   "outputs": [
    {
     "name": "stdout",
     "output_type": "stream",
     "text": [
      "\u001b[32m.\u001b[0m\u001b[31mF\u001b[0m\u001b[31m                                                                                           [100%]\u001b[0m\n",
      "============================================= FAILURES =============================================\n",
      "\u001b[31m\u001b[1m___________________________________ test_add_parametrized[1-1-3] ___________________________________\u001b[0m\n",
      "\n",
      "a = 1, b = 1, expected = 3\n",
      "\n",
      "    \u001b[37m@pytest\u001b[39;49;00m.mark.parametrize(\u001b[33m'\u001b[39;49;00m\u001b[33ma,b,expected\u001b[39;49;00m\u001b[33m'\u001b[39;49;00m,[\n",
      "        (\u001b[94m1\u001b[39;49;00m, \u001b[94m2\u001b[39;49;00m, \u001b[94m3\u001b[39;49;00m),\n",
      "        (\u001b[94m1\u001b[39;49;00m, \u001b[94m1\u001b[39;49;00m, \u001b[94m3\u001b[39;49;00m),\n",
      "    ])\n",
      "    \n",
      "    \n",
      "    \u001b[94mdef\u001b[39;49;00m \u001b[92mtest_add_parametrized\u001b[39;49;00m(a, b, expected):\n",
      ">       \u001b[94massert\u001b[39;49;00m(add(a, b) == expected)\n",
      "\u001b[1m\u001b[31mE       assert 2 == 3\u001b[0m\n",
      "\u001b[1m\u001b[31mE        +  where 2 = add(1, 1)\u001b[0m\n",
      "\n",
      "\u001b[1m\u001b[31m/var/folders/cz/xf3mpxwd51j396g_jgq0t07c0000gn/T/ipykernel_2240/3345051956.py\u001b[0m:8: AssertionError\n",
      "===================================== short test summary info ======================================\n",
      "FAILED tmpem36gfao.py::test_add_parametrized[1-1-3] - assert 2 == 3\n",
      "\u001b[31m\u001b[31m\u001b[1m1 failed\u001b[0m, \u001b[32m1 passed\u001b[0m\u001b[31m in 0.20s\u001b[0m\u001b[0m\n"
     ]
    }
   ],
   "source": [
    "%%ipytest\n",
    "\n",
    "@pytest.mark.parametrize('a,b,expected',[\n",
    "    (1, 2, 3),\n",
    "    (1, 1, 3),\n",
    "])\n",
    "\n",
    "\n",
    "def test_add_parametrized(a, b, expected):\n",
    "    assert(add(a, b) == expected)"
   ]
  }
 ],
 "metadata": {
  "interpreter": {
   "hash": "aee8b7b246df8f9039afb4144a1f6fd8d2ca17a180786b69acc140d282b71a49"
  },
  "kernelspec": {
   "display_name": "Python 3.9.12 64-bit",
   "language": "python",
   "name": "python3"
  },
  "language_info": {
   "codemirror_mode": {
    "name": "ipython",
    "version": 3
   },
   "file_extension": ".py",
   "mimetype": "text/x-python",
   "name": "python",
   "nbconvert_exporter": "python",
   "pygments_lexer": "ipython3",
   "version": "3.9.12"
  },
  "orig_nbformat": 4
 },
 "nbformat": 4,
 "nbformat_minor": 2
}
